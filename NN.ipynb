{
 "cells": [
  {
   "cell_type": "code",
   "execution_count": 844,
   "metadata": {},
   "outputs": [],
   "source": [
    "import torch\n",
    "import torch.nn as nn\n",
    "import torch.optim as optim\n",
    "import pandas as pd\n",
    "import numpy as np\n",
    "from sklearn.model_selection import train_test_split\n",
    "from sklearn.preprocessing import MinMaxScaler\n",
    "from sklearn.datasets import load_breast_cancer\n",
    "from torchimize.functions import lsq_lma"
   ]
  },
  {
   "cell_type": "code",
   "execution_count": 845,
   "metadata": {},
   "outputs": [],
   "source": [
    "device = torch.device('cpu')\n",
    "# For data preprocessing. To be replcaed with AR section.\n",
    "cancer_data = pd.read_csv('/Users/waldo/Documents/23 HT/Data Mining 1DL370/Assignment4/cancer.csv',sep=';')\n",
    "cancer_data.iloc[cancer_data['diagnosis'] == 'M',1] = 1\n",
    "cancer_data.iloc[cancer_data['diagnosis'] == 'B',1] = 0\n",
    "cancer_benign = cancer_data[cancer_data['diagnosis'] == 0]\n",
    "\n",
    "X, y = cancer_data.iloc[:,2:], cancer_data.iloc[:,1]\n",
    "X_normed = pd.DataFrame(MinMaxScaler().fit_transform(X))\n",
    "X = X_normed.astype('float')\n",
    "y = y.astype('float')\n",
    "X = X.values\n",
    "\n",
    "X_train, X_test, y_train, y_test = train_test_split(X,y,test_size=0.2, random_state=0)\n",
    "\n",
    "X_train = torch.tensor(X_train, dtype=torch.float32).to(device)\n",
    "y_train = torch.tensor(y_train, dtype=torch.float32).to(device)\n",
    "X_test = torch.tensor(X_test, dtype=torch.float32)\n",
    "y_test = torch.tensor(y_test.to_numpy(), dtype=torch.float32)"
   ]
  },
  {
   "cell_type": "code",
   "execution_count": 846,
   "metadata": {},
   "outputs": [
    {
     "name": "stdout",
     "output_type": "stream",
     "text": [
      "torch.Size([455, 32])\n"
     ]
    }
   ],
   "source": [
    "print(X_train.shape)"
   ]
  },
  {
   "cell_type": "code",
   "execution_count": 847,
   "metadata": {},
   "outputs": [],
   "source": [
    "class MLP(nn.Module):\n",
    "    def __init__(self):\n",
    "        super(MLP, self).__init__()\n",
    "        self.input_layer = nn.Linear(32, 11)  # 32 input neurons to 11 hidden neurons. This will be changed to actual number of features.\n",
    "        self.hidden_layer = nn.Linear(11, 1)  # 11 hidden neurons to 1 output neuron\n",
    "    \n",
    "    def forward(self, x):\n",
    "        x = torch.tanh(self.input_layer(x))  # Apply tanh activation to the input layer\n",
    "        x = torch.sigmoid(self.hidden_layer(x))  # Apply sigmoid activation to the output layer for binary classification\n",
    "        return x"
   ]
  },
  {
   "cell_type": "code",
   "execution_count": 848,
   "metadata": {},
   "outputs": [],
   "source": [
    "# Initialize the model\n",
    "model = MLP()\n",
    "model = model.to(device)\n",
    "\n",
    "criterion = nn.MSELoss()\n",
    "\n",
    "#for name, param in model.named_parameters():\n",
    "    #print(name, param)\n",
    "\n",
    "# Define the optimizer (Adam optimizer). To be changed to Lev-Mar\n",
    "optimizer = optim.Adam(model.parameters(), lr=0.1)\n"
   ]
  },
  {
   "cell_type": "code",
   "execution_count": 849,
   "metadata": {},
   "outputs": [
    {
     "name": "stdout",
     "output_type": "stream",
     "text": [
      "Training completed\n"
     ]
    }
   ],
   "source": [
    "num_epochs = 44\n",
    "\n",
    "for epoch in range(num_epochs):\n",
    "    outputs = model(X_train)\n",
    "    loss = criterion(outputs, y_train.view(-1, 1))\n",
    "    #print(loss)\n",
    "    # Backward pass and optimization\n",
    "    optimizer.zero_grad()\n",
    "    loss.backward()\n",
    "    optimizer.step()  # Update weights\n",
    "    \n",
    "    #if (epoch + 1) % 1000 == 0:\n",
    "       # print(f'Epoch [{epoch+1}/{num_epochs}], Loss: {loss.item():.4f}')\n",
    "print(\"Training completed\")\n"
   ]
  },
  {
   "cell_type": "code",
   "execution_count": 850,
   "metadata": {},
   "outputs": [
    {
     "name": "stdout",
     "output_type": "stream",
     "text": [
      "Accuracy on test data: 0.9737\n"
     ]
    }
   ],
   "source": [
    "# Evaluate the model\n",
    "\n",
    "with torch.no_grad():\n",
    "    model.eval()\n",
    "    predictions = model(X_test)\n",
    "    predictions = (predictions > 0.5).float()\n",
    "    accuracy = torch.sum(predictions.view(-1) == y_test).item() / y_test.size(0)\n",
    "    print(f'Accuracy on test data: {accuracy:.4f}')\n",
    "\n"
   ]
  },
  {
   "cell_type": "code",
   "execution_count": 851,
   "metadata": {},
   "outputs": [
    {
     "data": {
      "text/plain": [
       "'\\nloss_list = []\\n\\nclass LevenbergMarquardtOptimizer:\\n    def __init__(self, model, target_func, initial_params, lambda_=0.01, max_iterations=50):\\n        self.model = model\\n        self.target_func = target_func\\n        self.params = torch.nn.Parameter(torch.tensor(initial_params, requires_grad=True))\\n        self.lambda_ = lambda_\\n        self.max_iterations = max_iterations\\n\\n    def optimize(self):\\n        optimizer = torch.optim.SGD([self.params], lr=0.01)  # Dummy optimizer, as we manually perform updates\\n        \\n        for iteration in range(self.max_iterations):\\n            optimizer.zero_grad()\\n            loss = self.target_func(self.model(self.params))\\n            loss_list.append(loss)\\n            print(loss)\\n            loss.backward()\\n\\n            # Compute the approximate Hessian matrix\\n            with torch.no_grad():\\n                approx_hessian = torch.autograd.functional.hessian(self.target_func, self.params)\\n                diag_values = approx_hessian.diagonal() + self.lambda_\\n            # Update parameters using LM formula: theta_new = theta - (H + lambda*I)^(-1) * gradient\\n            update = torch.linalg.solve(approx_hessian + torch.diag(diag_values), -self.params.grad)\\n            self.params.data += update\\n\\n        return self.params.data.numpy()\\n\\n# Example usage:\\n\\n# Define your target function and model appropriately\\ndef target_func(output):\\n    # Define your loss function here, for example, mean squared error\\n    loss = torch.mean((output - y_train.view(-1, 1))**2)\\n    return loss\\n\\n# Instantiate your model and Levenberg-Marquardt optimizer\\nmodel = MLP()\\ninitial_params = torch.empty(X_train.shape[1])\\ninitial_params = nn.init.uniform_(initial_params)\\n#initial_params = torch.tensor([1.0] * 375)  # Initial guess for parameters\\nlm_optimizer = LevenbergMarquardtOptimizer(model, target_func, model.parameters())\\n\\n# Perform optimization\\noptimized_params = lm_optimizer.optimize()\\n'"
      ]
     },
     "execution_count": 851,
     "metadata": {},
     "output_type": "execute_result"
    }
   ],
   "source": [
    "\"\"\"\n",
    "loss_list = []\n",
    "\n",
    "class LevenbergMarquardtOptimizer:\n",
    "    def __init__(self, model, target_func, initial_params, lambda_=0.01, max_iterations=50):\n",
    "        self.model = model\n",
    "        self.target_func = target_func\n",
    "        self.params = torch.nn.Parameter(torch.tensor(initial_params, requires_grad=True))\n",
    "        self.lambda_ = lambda_\n",
    "        self.max_iterations = max_iterations\n",
    "\n",
    "    def optimize(self):\n",
    "        optimizer = torch.optim.SGD([self.params], lr=0.01)  # Dummy optimizer, as we manually perform updates\n",
    "        \n",
    "        for iteration in range(self.max_iterations):\n",
    "            optimizer.zero_grad()\n",
    "            loss = self.target_func(self.model(self.params))\n",
    "            loss_list.append(loss)\n",
    "            print(loss)\n",
    "            loss.backward()\n",
    "\n",
    "            # Compute the approximate Hessian matrix\n",
    "            with torch.no_grad():\n",
    "                approx_hessian = torch.autograd.functional.hessian(self.target_func, self.params)\n",
    "                diag_values = approx_hessian.diagonal() + self.lambda_\n",
    "            # Update parameters using LM formula: theta_new = theta - (H + lambda*I)^(-1) * gradient\n",
    "            update = torch.linalg.solve(approx_hessian + torch.diag(diag_values), -self.params.grad)\n",
    "            self.params.data += update\n",
    "\n",
    "        return self.params.data.numpy()\n",
    "\n",
    "# Example usage:\n",
    "\n",
    "# Define your target function and model appropriately\n",
    "def target_func(output):\n",
    "    # Define your loss function here, for example, mean squared error\n",
    "    loss = torch.mean((output - y_train.view(-1, 1))**2)\n",
    "    return loss\n",
    "\n",
    "# Instantiate your model and Levenberg-Marquardt optimizer\n",
    "model = MLP()\n",
    "initial_params = torch.empty(X_train.shape[1])\n",
    "initial_params = nn.init.uniform_(initial_params)\n",
    "#initial_params = torch.tensor([1.0] * 375)  # Initial guess for parameters\n",
    "lm_optimizer = LevenbergMarquardtOptimizer(model, target_func, model.parameters())\n",
    "\n",
    "# Perform optimization\n",
    "optimized_params = lm_optimizer.optimize()\n",
    "\"\"\"\n"
   ]
  },
  {
   "cell_type": "code",
   "execution_count": 852,
   "metadata": {},
   "outputs": [
    {
     "name": "stdout",
     "output_type": "stream",
     "text": [
      "Epoch [1/200], Loss: 0.2608\n",
      "Epoch [11/200], Loss: 0.2030\n",
      "Epoch [21/200], Loss: 0.1426\n",
      "Epoch [31/200], Loss: 0.0940\n",
      "Epoch [41/200], Loss: 0.0702\n",
      "Epoch [51/200], Loss: 0.0581\n",
      "Epoch [61/200], Loss: 0.0509\n",
      "Epoch [71/200], Loss: 0.0461\n",
      "Epoch [81/200], Loss: 0.0425\n",
      "Epoch [91/200], Loss: 0.0397\n",
      "Epoch [101/200], Loss: 0.0375\n",
      "Epoch [111/200], Loss: 0.0356\n",
      "Epoch [121/200], Loss: 0.0340\n",
      "Epoch [131/200], Loss: 0.0327\n",
      "Epoch [141/200], Loss: 0.0315\n",
      "Epoch [151/200], Loss: 0.0304\n",
      "Epoch [161/200], Loss: 0.0294\n",
      "Epoch [171/200], Loss: 0.0286\n",
      "Epoch [181/200], Loss: 0.0278\n",
      "Epoch [191/200], Loss: 0.0271\n"
     ]
    }
   ],
   "source": [
    "from torch.optim import Optimizer\n",
    "\n",
    "\n",
    "def target_func(output):\n",
    "    return criterion(outputs, y_train.view(-1, 1))\n",
    "\n",
    "class LevenbergMarquardt(Optimizer):\n",
    "    def __init__(self, params, lr=1, lambda_=0.01):\n",
    "        if lr < 0.0:\n",
    "            raise ValueError(\"Invalid learning rate: {}\".format(lr))\n",
    "        if lambda_ < 0.0:\n",
    "            raise ValueError(\"Invalid lambda value: {}\".format(lambda_))\n",
    "        \n",
    "        defaults = dict(lr=lr, lambda_=lambda_)\n",
    "        super(LevenbergMarquardt, self).__init__(params, defaults)\n",
    "\n",
    "    def step(self, closure=None):\n",
    "        loss = None\n",
    "        if closure is not None:\n",
    "            with torch.enable_grad():\n",
    "                loss = closure()\n",
    "                \n",
    "        for group in self.param_groups:\n",
    "            for param in group['params']:\n",
    "                if param.grad is None:\n",
    "                    continue\n",
    "\n",
    "                lr = group['lr']\n",
    "                lambda_ = group['lambda_']\n",
    "                if len(param.shape) == 2:\n",
    "                    d_p = param.grad\n",
    "                    d_p = torch.reshape(d_p, (-1,))\n",
    "                    shape0, shape1 = param.shape[0],param.shape[1]\n",
    "                    param = torch.reshape(param, (-1,))\n",
    "                    # Compute the approximate Hessian matrix (second derivative)\n",
    "                    approx_hessian = torch.autograd.functional.hessian(func=target_func,inputs=param,create_graph=True)\n",
    "                    diag_values = torch.diag(approx_hessian) + lambda_\n",
    "                    # Update parameters using LM formula: theta_new = theta - (H + lambda*I)^(-1) * gradient\n",
    "                    update = torch.linalg.solve(approx_hessian + torch.diag(diag_values), -d_p)\n",
    "                    param.data += lr * update\n",
    "                    param = torch.reshape(param,(shape0,shape1))\n",
    "                else:\n",
    "                    d_p = param.grad\n",
    "                    approx_hessian = torch.autograd.functional.hessian(func=target_func,inputs=param,create_graph=True)\n",
    "                    diag_values = torch.diag(approx_hessian) + lambda_\n",
    "                    # Update parameters using LM formula: theta_new = theta - (H + lambda*I)^(-1) * gradient\n",
    "                    update = torch.linalg.solve(approx_hessian + torch.diag(diag_values), -d_p)\n",
    "                    param.data += lr * update\n",
    "\n",
    "        return loss\n",
    "\n",
    "model = MLP()\n",
    "lm_optimizer = LevenbergMarquardt(model.parameters(), lr=0.001, lambda_=0.001)\n",
    "loss_list = []\n",
    "num_epochs = 200\n",
    "for epoch in range(num_epochs):\n",
    "    outputs = model(X_train)\n",
    "    loss = criterion(outputs, y_train.view(-1, 1))      \n",
    "    loss_list.append(loss.item())  \n",
    "    lm_optimizer.zero_grad()\n",
    "    loss.backward()\n",
    "    lm_optimizer.step()\n",
    "    if epoch%10 == 0:\n",
    "        print('Epoch [{}/{}], Loss: {:.4f}'.format(epoch+1, num_epochs, loss.item()))"
   ]
  },
  {
   "cell_type": "code",
   "execution_count": 853,
   "metadata": {},
   "outputs": [
    {
     "name": "stdout",
     "output_type": "stream",
     "text": [
      "Accuracy on test data: 0.9649\n"
     ]
    }
   ],
   "source": [
    "with torch.no_grad():\n",
    "    model.eval()\n",
    "    predictions = model(X_test)\n",
    "    predictions = (predictions > 0.5).float()\n",
    "    accuracy = torch.sum(predictions.view(-1) == y_test).item() / y_test.size(0)\n",
    "    print(f'Accuracy on test data: {accuracy:.4f}')"
   ]
  },
  {
   "cell_type": "code",
   "execution_count": 854,
   "metadata": {},
   "outputs": [
    {
     "data": {
      "image/png": "[encoded data removed]",
      "text/plain": [
       "<Figure size 576x432 with 1 Axes>"
      ]
     },
     "metadata": {
      "needs_background": "light"
     },
     "output_type": "display_data"
    }
   ],
   "source": [
    "import matplotlib.pyplot as plt\n",
    "\n",
    "x = np.linspace(1, len(loss_list) ,len(loss_list))\n",
    "y = loss_list\n",
    "\n",
    "plt.figure(figsize=(8, 6))\n",
    "plt.plot(x, y, label='loss', color='m', linewidth=1.5)\n",
    "plt.xlabel('x')\n",
    "plt.ylabel('y')\n",
    "plt.title('Loss Curve')\n",
    "plt.legend()\n",
    "plt.grid(True)\n",
    "plt.show()\n"
   ]
  }
 ],
 "metadata": {
  "kernelspec": {
   "display_name": "Python 3.9.7 ('base')",
   "language": "python",
   "name": "python3"
  },
  "language_info": {
   "codemirror_mode": {
    "name": "ipython",
    "version": 3
   },
   "file_extension": ".py",
   "mimetype": "text/x-python",
   "name": "python",
   "nbconvert_exporter": "python",
   "pygments_lexer": "ipython3",
   "version": "3.9.7"
  },
  "orig_nbformat": 4,
  "vscode": {
   "interpreter": {
    "hash": "1c612fed8d120ac5c30643c808a4d3b681130bd8cc40d3014416815b15cd817e"
   }
  }
 },
 "nbformat": 4,
 "nbformat_minor": 2
}
